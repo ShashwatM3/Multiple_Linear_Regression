{
 "cells": [
  {
   "cell_type": "code",
   "execution_count": 39,
   "id": "f84bb81b",
   "metadata": {},
   "outputs": [],
   "source": [
    "import numpy as np\n",
    "import pandas as pd\n",
    "import matplotlib.pyplot as plt\n",
    "import seaborn as sns\n",
    "from sklearn.model_selection import train_test_split\n",
    "from sklearn.preprocessing import LabelEncoder, OneHotEncoder #converting non-numerical labels to numerical labels\n",
    "from sklearn.linear_model import LinearRegression"
   ]
  },
  {
   "cell_type": "code",
   "execution_count": 40,
   "id": "e1b493b9",
   "metadata": {},
   "outputs": [
    {
     "data": {
      "text/html": [
       "<div>\n",
       "<style scoped>\n",
       "    .dataframe tbody tr th:only-of-type {\n",
       "        vertical-align: middle;\n",
       "    }\n",
       "\n",
       "    .dataframe tbody tr th {\n",
       "        vertical-align: top;\n",
       "    }\n",
       "\n",
       "    .dataframe thead th {\n",
       "        text-align: right;\n",
       "    }\n",
       "</style>\n",
       "<table border=\"1\" class=\"dataframe\">\n",
       "  <thead>\n",
       "    <tr style=\"text-align: right;\">\n",
       "      <th></th>\n",
       "      <th>R&amp;D Spend</th>\n",
       "      <th>Administration</th>\n",
       "      <th>Marketing Spend</th>\n",
       "      <th>State</th>\n",
       "      <th>Profit</th>\n",
       "    </tr>\n",
       "  </thead>\n",
       "  <tbody>\n",
       "    <tr>\n",
       "      <th>0</th>\n",
       "      <td>165349.20</td>\n",
       "      <td>136897.80</td>\n",
       "      <td>471784.10</td>\n",
       "      <td>New York</td>\n",
       "      <td>192261.83</td>\n",
       "    </tr>\n",
       "    <tr>\n",
       "      <th>1</th>\n",
       "      <td>162597.70</td>\n",
       "      <td>151377.59</td>\n",
       "      <td>443898.53</td>\n",
       "      <td>California</td>\n",
       "      <td>191792.06</td>\n",
       "    </tr>\n",
       "    <tr>\n",
       "      <th>2</th>\n",
       "      <td>153441.51</td>\n",
       "      <td>101145.55</td>\n",
       "      <td>407934.54</td>\n",
       "      <td>Florida</td>\n",
       "      <td>191050.39</td>\n",
       "    </tr>\n",
       "    <tr>\n",
       "      <th>3</th>\n",
       "      <td>144372.41</td>\n",
       "      <td>118671.85</td>\n",
       "      <td>383199.62</td>\n",
       "      <td>New York</td>\n",
       "      <td>182901.99</td>\n",
       "    </tr>\n",
       "    <tr>\n",
       "      <th>4</th>\n",
       "      <td>142107.34</td>\n",
       "      <td>91391.77</td>\n",
       "      <td>366168.42</td>\n",
       "      <td>Florida</td>\n",
       "      <td>166187.94</td>\n",
       "    </tr>\n",
       "  </tbody>\n",
       "</table>\n",
       "</div>"
      ],
      "text/plain": [
       "   R&D Spend  Administration  Marketing Spend       State     Profit\n",
       "0  165349.20       136897.80        471784.10    New York  192261.83\n",
       "1  162597.70       151377.59        443898.53  California  191792.06\n",
       "2  153441.51       101145.55        407934.54     Florida  191050.39\n",
       "3  144372.41       118671.85        383199.62    New York  182901.99\n",
       "4  142107.34        91391.77        366168.42     Florida  166187.94"
      ]
     },
     "execution_count": 40,
     "metadata": {},
     "output_type": "execute_result"
    }
   ],
   "source": [
    "data = pd.read_csv(r\"C:\\Users\\gobus\\Desktop\\,\\ML-AI-Blog\\Machine Learning Full\\Linear Regression\\1000_Companies.csv\")\n",
    "data.head()"
   ]
  },
  {
   "cell_type": "code",
   "execution_count": 41,
   "id": "ddb0c6d4",
   "metadata": {},
   "outputs": [
    {
     "name": "stdout",
     "output_type": "stream",
     "text": [
      "Features Data\n",
      "-------------\n",
      "   R&D Spend  Administration  Marketing Spend       State\n",
      "0  165349.20       136897.80        471784.10    New York\n",
      "1  162597.70       151377.59        443898.53  California\n",
      "2  153441.51       101145.55        407934.54     Florida\n",
      "3  144372.41       118671.85        383199.62    New York\n",
      "4  142107.34        91391.77        366168.42     Florida\n",
      "\n",
      "Target Data\n",
      "-------------\n",
      "0    192261.83\n",
      "1    191792.06\n",
      "2    191050.39\n",
      "3    182901.99\n",
      "4    166187.94\n",
      "Name: Profit, dtype: float64\n"
     ]
    }
   ],
   "source": [
    "x = data.iloc[:, :4]\n",
    "y = data.iloc[:,4]\n",
    "\n",
    "print(\"Features Data\")\n",
    "print(\"-------------\")\n",
    "print(x.head())\n",
    "print()\n",
    "print(\"Target Data\")\n",
    "print(\"-------------\")\n",
    "print(y.head())"
   ]
  },
  {
   "cell_type": "code",
   "execution_count": 42,
   "id": "80dc0846",
   "metadata": {},
   "outputs": [
    {
     "data": {
      "text/plain": [
       "<AxesSubplot:>"
      ]
     },
     "execution_count": 42,
     "metadata": {},
     "output_type": "execute_result"
    },
    {
     "data": {
      "image/png": "[encoded data removed]",
      "text/plain": [
       "<Figure size 432x288 with 2 Axes>"
      ]
     },
     "metadata": {
      "needs_background": "light"
     },
     "output_type": "display_data"
    }
   ],
   "source": [
    "sns.heatmap(data.corr())"
   ]
  },
  {
   "cell_type": "code",
   "execution_count": 43,
   "id": "96bdb3f4",
   "metadata": {},
   "outputs": [
    {
     "name": "stdout",
     "output_type": "stream",
     "text": [
      "     R&D Spend  Administration  Marketing Spend  State\n",
      "0    165349.20      136897.800      471784.1000      2\n",
      "1    162597.70      151377.590      443898.5300      0\n",
      "2    153441.51      101145.550      407934.5400      1\n",
      "3    144372.41      118671.850      383199.6200      2\n",
      "4    142107.34       91391.770      366168.4200      1\n",
      "..         ...             ...              ...    ...\n",
      "995   54135.00      118451.999      173232.6695      0\n",
      "996  134970.00      130390.080      329204.0228      0\n",
      "997  100275.47      241926.310      227142.8200      0\n",
      "998  128456.23      321652.140      281692.3200      0\n",
      "999  161181.72      270939.860      295442.1700      2\n",
      "\n",
      "[1000 rows x 4 columns]\n"
     ]
    }
   ],
   "source": [
    "#Encoding non-numerical data\n",
    "labelEncoder = LabelEncoder()\n",
    "x.iloc[:, 3] = labelEncoder.fit_transform(x.iloc[:, 3])\n",
    "print(x)"
   ]
  },
  {
   "cell_type": "code",
   "execution_count": 45,
   "id": "2a27d1c2",
   "metadata": {},
   "outputs": [
    {
     "data": {
      "text/plain": [
       "LinearRegression()"
      ]
     },
     "execution_count": 45,
     "metadata": {},
     "output_type": "execute_result"
    }
   ],
   "source": [
    "x_train, x_test, y_train, y_test = train_test_split(x, y, test_size=0.3, random_state=0)\n",
    "model = LinearRegression()\n",
    "model.fit(x_train, y_train)"
   ]
  },
  {
   "cell_type": "code",
   "execution_count": 48,
   "id": "11d0d3f1",
   "metadata": {},
   "outputs": [
    {
     "data": {
      "text/plain": [
       "array([ 89229.84240672,  87863.57359396,  94344.10707643, 175895.22780744,\n",
       "        82980.10370555, 110194.56108429, 131145.7010102 ,  90915.96765644,\n",
       "       164327.69446375,  53192.42691382,  66343.76579396, 150730.60351131,\n",
       "       126428.6376229 ,  58716.22001532, 177128.4726056 ,  74868.47412819,\n",
       "       118347.71223061, 164163.10652744, 175361.94494987, 181834.67901715,\n",
       "       123931.93385785,  85100.94211769, 181217.57120963,  83573.02539329,\n",
       "       104475.47586626, 100695.66614769,  55869.41048033,  56396.76116702,\n",
       "        68293.85868702, 211295.84575218, 120883.34880413, 111207.9392621 ,\n",
       "       101092.40806137, 138097.99134639,  63357.57857647, 108335.2495546 ,\n",
       "       185788.17407412, 171648.53078766, 174856.55395055, 117769.90686372,\n",
       "        96326.37421582, 165042.71190733, 107199.41503089,  50158.08929082,\n",
       "       116609.99719297,  58009.44033117, 158596.32198653,  78561.69056487,\n",
       "       159910.14115752, 131263.20822855, 185113.45777499, 174821.30101551,\n",
       "        93192.79566122,  77899.37238042, 180508.82221402,  84493.65299022,\n",
       "       143049.74835815, 170361.11676696,  83935.37411825, 104919.50834711,\n",
       "       141806.43514537,  52033.9872065 , 141386.22819422, 138856.11118755,\n",
       "        97750.75077428, 113677.1194517 , 126409.22208131, 151841.25329954,\n",
       "        58383.82668438, 174497.14534811, 124132.89343814, 168663.45314889,\n",
       "        91324.9968293 , 155884.17070976,  83735.53314907,  77435.06461165,\n",
       "       120517.92138076,  92968.74076374, 138558.24960958, 143151.45776522,\n",
       "       171353.60934191, 139622.71831153, 105983.97695123, 155212.28347229,\n",
       "       139711.64131286, 109794.74048192,  69072.00418905,  87726.36152698,\n",
       "       139673.44825531, 148177.52062343, 157633.92337955,  57909.70013967,\n",
       "        93296.33571961, 112734.74650559,  56070.88580744, 107031.24905396,\n",
       "       147510.54272599, 151849.85164321, 167545.17571663, 118247.36182395,\n",
       "       120867.87189321, 139171.05829418, 157244.42071131, 122069.05341776,\n",
       "        86667.0517921 , 104865.58865378,  94927.43190263, 178147.7309306 ,\n",
       "       181566.05166083, 109452.52837116, 164844.09136266, 167401.2236486 ,\n",
       "       157719.90625837, 174533.86834441, 169796.70813044,  51666.47951059,\n",
       "       176551.52718068, 104220.96632262,  82135.39076847, 138569.78798764,\n",
       "       144426.33500723, 161865.39302734, 169864.38503669, 120554.89401381,\n",
       "       159061.48958975, 109693.77985814, 169415.30444425,  60141.81701092,\n",
       "       158614.62804723, 157745.34061118, 174262.16229938, 156008.84599805,\n",
       "       103181.4327194 ,  85208.781299  , 141146.33581517, 165650.97183226,\n",
       "       121287.46863695, 173089.32322528, 100569.88148604,  82124.82320729,\n",
       "       178260.00799668, 101253.69539263,  70049.99065056,  89832.08352043,\n",
       "        60771.57265506,  68451.56796796,  72784.4974839 , 176527.4519261 ,\n",
       "        89747.21001498, 133502.49725894,  92721.35961004,  88691.58463269,\n",
       "       172441.54308133,  60275.09054795, 169216.93353633, 166042.69334505,\n",
       "       165619.4077052 , 102237.9503021 , 181359.19337226,  73713.11311927,\n",
       "        90709.60862196, 135322.71202087,  64454.22152475,  71320.81839669,\n",
       "        60126.70069298, 184520.17549719, 176502.26729816, 158627.02617161,\n",
       "       141043.51692721, 154321.86090418,  58068.26926282,  90662.92827188,\n",
       "       152592.74411238, 168597.85641348,  72031.89719988, 116159.44664681,\n",
       "        80111.10300169, 149530.03211575, 116442.08084308, 129711.46587662,\n",
       "       174746.49582686, 312544.61058801, 145822.94740531, 150349.44946187,\n",
       "        86142.80552848,  69970.27612187,  70100.11037723,  68431.43134406,\n",
       "       120309.59303094,  89258.57736458, 167020.92954113, 125025.3961965 ,\n",
       "        66745.6666747 , 136207.67292214, 118041.00278947, 165488.96333057,\n",
       "       168855.80524559, 146563.26043985, 141080.48955055, 108706.19652539,\n",
       "        81996.09842312, 156715.87531507, 136111.17545705,  60095.38619491,\n",
       "       142936.86106526, 176607.41609153,  86868.25185951, 136161.90539112,\n",
       "       169863.52519254,  94673.78230096, 136811.07648195, 125958.67153515,\n",
       "        26824.17555946,  71059.67992255, 166577.86776962, 139103.99160504,\n",
       "       126900.18463711, 137925.16564678,  82185.05189108, 130372.67468771,\n",
       "       170207.45688406, 108964.39497484, 123835.1428329 , 117132.523778  ,\n",
       "        60011.12291044, 126197.70407976, 179351.13138782,  53832.13990787,\n",
       "       122750.44392207, 173420.63902373,  69532.37341526, 152339.34413775,\n",
       "       134222.49102227,  59794.44593309,  85761.04135005,  84415.15889576,\n",
       "        98118.25847601,  75806.54785355, 127922.16115858, 110026.0345173 ,\n",
       "        59367.97063568, 101415.34330426, 147466.94106461, 158826.14605849,\n",
       "       161162.66283324, 185261.95858328,  55277.26340226, 153551.0056032 ,\n",
       "        66801.55558555, 163853.56801492,  64128.59588421,  59010.89183694,\n",
       "       140230.11839231,  61709.64637848,  60983.58992137, 129454.37699618,\n",
       "       168099.40509273, 120935.7984362 ,  65531.83732032,  26881.13856777,\n",
       "       147003.24342483, 177747.05047437, 175771.66199035, 138614.99836458,\n",
       "        76492.33107547, 180787.65654146, 105183.11529285, 102020.16385259,\n",
       "       173142.30395038, 128856.29634138, 144305.70931265, 121040.08737572,\n",
       "       123368.86574879, 105721.97872106,  73772.19168185, 110719.55623874,\n",
       "        80466.82269832, 152150.18169278, 126296.83415003,  65603.20313238,\n",
       "        77225.5158179 ,  92528.14766918, 156521.55390302, 144481.36406423,\n",
       "       164757.85875897,  52785.38250323,  99485.02653316, 159845.90363757,\n",
       "       142030.24041581,  89860.70752498,  98778.85707   , 170402.02793286,\n",
       "       181979.3799566 , 140522.70994236, 159234.56491641, 142294.56854168,\n",
       "       344096.09798756, 139396.58324321, 143903.8084222 , 118231.40780841])"
      ]
     },
     "execution_count": 48,
     "metadata": {},
     "output_type": "execute_result"
    }
   ],
   "source": [
    "y_pred = model.predict(x_test)\n",
    "y_pred"
   ]
  },
  {
   "cell_type": "code",
   "execution_count": 52,
   "id": "0163d941",
   "metadata": {},
   "outputs": [
    {
     "name": "stdout",
     "output_type": "stream",
     "text": [
      "0.931091029778443\n"
     ]
    }
   ],
   "source": [
    "from sklearn.metrics import r2_score\n",
    "print(r2_score(y_test, y_pred))"
   ]
  },
  {
   "cell_type": "code",
   "execution_count": null,
   "id": "d484810c",
   "metadata": {},
   "outputs": [],
   "source": []
  }
 ],
 "metadata": {
  "kernelspec": {
   "display_name": "Python 3 (ipykernel)",
   "language": "python",
   "name": "python3"
  },
  "language_info": {
   "codemirror_mode": {
    "name": "ipython",
    "version": 3
   },
   "file_extension": ".py",
   "mimetype": "text/x-python",
   "name": "python",
   "nbconvert_exporter": "python",
   "pygments_lexer": "ipython3",
   "version": "3.9.12"
  }
 },
 "nbformat": 4,
 "nbformat_minor": 5
}
